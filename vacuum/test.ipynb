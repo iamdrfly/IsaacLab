{
 "cells": [
  {
   "metadata": {
    "ExecuteTime": {
     "end_time": "2024-12-09T09:47:19.220654Z",
     "start_time": "2024-12-09T09:47:17.817319Z"
    }
   },
   "cell_type": "code",
   "source": [
    "# Importare le librerie necessarie\n",
    "import pandas as pd\n",
    "import numpy as np\n",
    "import matplotlib.pyplot as plt\n",
    "from sklearn.model_selection import train_test_split\n",
    "from sklearn.preprocessing import StandardScaler, MinMaxScaler, RobustScaler\n",
    "from sklearn.metrics import mean_absolute_error, mean_squared_error, mean_absolute_percentage_error\n",
    "import torch\n",
    "from torch import nn, optim\n",
    "from torch.utils.data import DataLoader, TensorDataset\n",
    "import os\n",
    "import pickle\n",
    "import json\n",
    "import datetime\n",
    "import joblib\n",
    "import wandb"
   ],
   "id": "cba2a41ab15708d7",
   "outputs": [],
   "execution_count": 1
  },
  {
   "cell_type": "code",
   "id": "initial_id",
   "metadata": {
    "collapsed": true,
    "ExecuteTime": {
     "end_time": "2024-12-09T09:47:19.231564Z",
     "start_time": "2024-12-09T09:47:19.223964Z"
    }
   },
   "source": [
    "from scipy.signal import butter,filtfilt # Filter requirements.\n",
    "T = 0.005         # Sample Period\n",
    "fs = 1/T       # sample rate, Hz\n",
    "cutoff = 1    # desired cutoff frequency of the filter, Hz ,      slightly higher than actual 1.2 Hznyq = 0.5 * fs  # Nyquist Frequencyorder = 2       # sin wave can be approx represented as quadratic\n",
    "n = int(T * fs) # total number of samples\n",
    "nyq = 0.5 * fs  # Nyquist Frequencyorder = 2       # sin wave can be approx represented as quadratic\n",
    "\n",
    "def butter_lowpass_filter(data, cutoff, fs, order):\n",
    "    normal_cutoff = cutoff / nyq\n",
    "    # Get the filter coefficients \n",
    "    b, a = butter(order, normal_cutoff, btype='low', analog=False)\n",
    "    y = filtfilt(b, a, data)\n",
    "    return y"
   ],
   "outputs": [],
   "execution_count": 2
  },
  {
   "metadata": {
    "ExecuteTime": {
     "end_time": "2024-12-09T09:47:19.273185Z",
     "start_time": "2024-12-09T09:47:19.269457Z"
    }
   },
   "cell_type": "code",
   "source": [
    "files_dict = {}\n",
    "def create_dataframe_from_files(directory):\n",
    "    data_list = []\n",
    "    for root, dirs, files in os.walk(directory):\n",
    "        for file_name in files:\n",
    "            file_path = os.path.join(root, file_name)\n",
    "            # Esempio: lettura di dati da file CSV\n",
    "            if file_name.endswith('.csv'):\n",
    "                df = pd.read_csv(file_path)\n",
    "                print(file_name, \"---\", len(df))\n",
    "                files_dict[file_name] = len(df)\n",
    "                df[\"Tempo (ms)\"] = df[\"Tempo (ms)\"].astype(float)\n",
    "                df[\"Forza (N)\"] = df[\"Forza (N)\"].astype(float)\n",
    "                df[\"Valvola\"] = df[\"Stato X11\"].astype(float)\n",
    "                df[\"Pressione\"] = df[\"Pressione\"].astype(float)\n",
    "                df[\"Voltaggio\"] = df[\"Voltaggio\"].astype(float)\n",
    "                df = df.reindex(columns=[\"Tempo (ms)\",\"Voltaggio\",\"Valvola\",\"Pressione\"])\n",
    "                # df = pd.concat([df_header, df], ignore_index=True)\n",
    "                \n",
    "                pressure = df[\"Pressione\"].tolist()[500:]\n",
    "                filtered = butter_lowpass_filter(pressure, cutoff, fs, order=2)\n",
    "                gradient = np.gradient(filtered, 0.005)\n",
    "                \n",
    "                start = 500+gradient.tolist().index(gradient.max())-50\n",
    "                end = 500+gradient.tolist().index(gradient[1000+start:].max())-100\n",
    "                \n",
    "                \n",
    "                # plt.plot(pressure, label=\"pressure\")\n",
    "                # plt.plot(filtered, label=\"filtered\")\n",
    "                # plt.plot(gradient, label=\"gradient\")\n",
    "                # plt.axvline(start, color='r')\n",
    "                # plt.axvline(end, color='r')\n",
    "                # plt.legend()\n",
    "                # plt.title(file_name)\n",
    "                # plt.show()\n",
    "                \n",
    "                data_cut = df.iloc[start:end]\n",
    "                data_cut[\"Tempo (ms)\"] = np.arange(0,end-start)*0.005\n",
    "                data_list.append(data_cut)\n",
    "\n",
    "    if data_list:\n",
    "        # return pd.concat(data_list, ignore_index=True)\n",
    "        return data_list\n",
    "    else:\n",
    "        return None"
   ],
   "id": "d9749b9e14641161",
   "outputs": [],
   "execution_count": 3
  },
  {
   "metadata": {
    "ExecuteTime": {
     "end_time": "2024-12-09T09:47:19.328836Z",
     "start_time": "2024-12-09T09:47:19.315893Z"
    }
   },
   "cell_type": "code",
   "source": "df_unseens = create_dataframe_from_files(\"/home/etosin/Documents/isaaclab_supsi/vacuum/test_DOE_5milli\")",
   "id": "384e60dbedf784",
   "outputs": [
    {
     "name": "stdout",
     "output_type": "stream",
     "text": [
      "test39_updated_5milli.csv --- 3984\n",
      "test34_updated_5milli.csv --- 4141\n",
      "test21_updated_5milli.csv --- 4068\n",
      "test28_updated_5milli.csv --- 3990\n"
     ]
    },
    {
     "name": "stderr",
     "output_type": "stream",
     "text": [
      "/tmp/ipykernel_17475/1980670748.py:38: SettingWithCopyWarning: \n",
      "A value is trying to be set on a copy of a slice from a DataFrame.\n",
      "Try using .loc[row_indexer,col_indexer] = value instead\n",
      "\n",
      "See the caveats in the documentation: https://pandas.pydata.org/pandas-docs/stable/user_guide/indexing.html#returning-a-view-versus-a-copy\n",
      "  data_cut[\"Tempo (ms)\"] = np.arange(0,end-start)*0.005\n",
      "/tmp/ipykernel_17475/1980670748.py:38: SettingWithCopyWarning: \n",
      "A value is trying to be set on a copy of a slice from a DataFrame.\n",
      "Try using .loc[row_indexer,col_indexer] = value instead\n",
      "\n",
      "See the caveats in the documentation: https://pandas.pydata.org/pandas-docs/stable/user_guide/indexing.html#returning-a-view-versus-a-copy\n",
      "  data_cut[\"Tempo (ms)\"] = np.arange(0,end-start)*0.005\n",
      "/tmp/ipykernel_17475/1980670748.py:38: SettingWithCopyWarning: \n",
      "A value is trying to be set on a copy of a slice from a DataFrame.\n",
      "Try using .loc[row_indexer,col_indexer] = value instead\n",
      "\n",
      "See the caveats in the documentation: https://pandas.pydata.org/pandas-docs/stable/user_guide/indexing.html#returning-a-view-versus-a-copy\n",
      "  data_cut[\"Tempo (ms)\"] = np.arange(0,end-start)*0.005\n",
      "/tmp/ipykernel_17475/1980670748.py:38: SettingWithCopyWarning: \n",
      "A value is trying to be set on a copy of a slice from a DataFrame.\n",
      "Try using .loc[row_indexer,col_indexer] = value instead\n",
      "\n",
      "See the caveats in the documentation: https://pandas.pydata.org/pandas-docs/stable/user_guide/indexing.html#returning-a-view-versus-a-copy\n",
      "  data_cut[\"Tempo (ms)\"] = np.arange(0,end-start)*0.005\n"
     ]
    }
   ],
   "execution_count": 4
  },
  {
   "metadata": {
    "ExecuteTime": {
     "end_time": "2024-12-09T09:47:19.363206Z",
     "start_time": "2024-12-09T09:47:19.360965Z"
    }
   },
   "cell_type": "code",
   "source": [
    "def pad_dfs(dfs):\n",
    "    new_dfs = []\n",
    "    for df in dfs:\n",
    "        tmp = pd.DataFrame(np.array(df.iloc[0].tolist()*10).reshape(10, -1), columns=df.columns)\n",
    "        df = pd.concat([tmp, df], axis=0, ignore_index=True)\n",
    "        new_dfs.append(df)\n",
    "    return new_dfs"
   ],
   "id": "a5b3f3b462800eae",
   "outputs": [],
   "execution_count": 5
  },
  {
   "metadata": {
    "ExecuteTime": {
     "end_time": "2024-12-09T09:47:19.408959Z",
     "start_time": "2024-12-09T09:47:19.405888Z"
    }
   },
   "cell_type": "code",
   "source": "df_unseens = pad_dfs(df_unseens)",
   "id": "2540fd90983863a5",
   "outputs": [],
   "execution_count": 6
  },
  {
   "metadata": {
    "ExecuteTime": {
     "end_time": "2024-12-09T09:47:19.452755Z",
     "start_time": "2024-12-09T09:47:19.450722Z"
    }
   },
   "cell_type": "code",
   "source": [
    "data = next(iter(df_unseens))\n",
    "\n",
    "voltage = data[\"Voltaggio\"]\n",
    "time = data[\"Tempo (ms)\"]"
   ],
   "id": "24f36cf6bbbe5dfb",
   "outputs": [],
   "execution_count": 7
  },
  {
   "metadata": {
    "ExecuteTime": {
     "end_time": "2024-12-09T09:47:19.497745Z",
     "start_time": "2024-12-09T09:47:19.495619Z"
    }
   },
   "cell_type": "code",
   "source": [
    "def create_sequences(features, targets, seq_length):\n",
    "    sequences = []\n",
    "    for i in range(len(features) - seq_length):\n",
    "        seq = features[i:i+seq_length]\n",
    "        label = targets[i+seq_length]\n",
    "        sequences.append((seq.tolist(), label.tolist()))\n",
    "    return sequences"
   ],
   "id": "66eaf37d2b54cd3e",
   "outputs": [],
   "execution_count": 8
  },
  {
   "metadata": {
    "ExecuteTime": {
     "end_time": "2024-12-09T09:47:19.543251Z",
     "start_time": "2024-12-09T09:47:19.540438Z"
    }
   },
   "cell_type": "code",
   "source": [
    "def evaluate_model_unseen(lstm_model, df_unseen, helper):\n",
    "    df_unseen[\"V\"] = (df_unseen[\"Voltaggio\"]+1)/6\n",
    "\n",
    "    mask_valvola_on = df_unseen[\"Valvola\"]<=0.5\n",
    "    mask_valvola_off = df_unseen[\"Valvola\"]>0.5\n",
    "    \n",
    "    df_unseen.loc[mask_valvola_on, \"V\"] = 0\n",
    "    df_unseen.loc[mask_valvola_on, \"Valvola\"] = 1\n",
    "    df_unseen.loc[mask_valvola_off, \"Valvola\"] = 0\n",
    "    \n",
    "    X = df_unseen[['Tempo (ms)', 'V']].values\n",
    "    y = df_unseen['Pressione'].values\n",
    "    \n",
    "    \n",
    "    X = helper.scaler.transform(X.values)\n",
    "    \n",
    "    seq = create_sequences(X, y, helper.seq_length)\n",
    "    X, y_true = zip(*seq)\n",
    "    \n",
    "    \n",
    "    lstm_model.eval()\n",
    "    with torch.no_grad():\n",
    "        pred_lstm = lstm_model(torch.tensor(X, device=helper.device).float()).flatten().tolist()\n",
    "    \n",
    "    return y_true, pred_lstm"
   ],
   "id": "117a215cf7a261c",
   "outputs": [],
   "execution_count": 9
  },
  {
   "metadata": {
    "ExecuteTime": {
     "end_time": "2024-12-09T09:47:25.081646Z",
     "start_time": "2024-12-09T09:47:25.006298Z"
    }
   },
   "cell_type": "code",
   "source": [
    "\"\"\"SE CRASHA SENZA DIRE NULLA CAMBIARE A PATH ASSOULTI NELL'HELPER\"\"\"\n",
    "\n",
    "from LSTM_Helper import LSTM_Helper\n",
    "helper = LSTM_Helper()\n",
    "\n",
    "# forces_helper = helper.predict(np.arange(0, 12), voltage[:12], buffer_mode=False) ## DEBUG\n",
    "forces_helper = helper.predict(time, voltage, buffer_mode=False)\n",
    "#\n",
    "true_press, pred_lstm = evaluate_model_unseen(helper.model, data, helper)\n",
    "true_forces = [helper.compute_force(p) for p in true_press]\n",
    "forces_lstm = [helper.compute_force(p) for p in pred_lstm]"
   ],
   "id": "73313be8b12e5d92",
   "outputs": [
    {
     "name": "stderr",
     "output_type": "stream",
     "text": [
      "/home/etosin/miniconda3/envs/isaaclab_github/lib/python3.10/site-packages/sklearn/base.py:376: InconsistentVersionWarning: Trying to unpickle estimator RobustScaler from version 1.4.2 when using version 1.5.2. This might lead to breaking code or invalid results. Use at your own risk. For more info please refer to:\n",
      "https://scikit-learn.org/stable/model_persistence.html#security-maintainability-limitations\n",
      "  warnings.warn(\n"
     ]
    }
   ],
   "execution_count": 12
  },
  {
   "metadata": {
    "ExecuteTime": {
     "end_time": "2024-12-09T09:47:19.916052Z",
     "start_time": "2024-12-09T09:47:19.682697Z"
    }
   },
   "cell_type": "code",
   "source": [
    "fontsize = 35\n",
    "linewidth = 7\n",
    "plt.figure(figsize=(12,12))\n",
    "plt.plot(true_forces, label='True Force', linewidth=linewidth, color=\"green\")\n",
    "plt.plot(forces_lstm, label='Predicted Force LSTM', linestyle='dotted', linewidth=linewidth, color=\"red\")\n",
    "plt.plot(forces_helper, label='Helper Force LSTM', linestyle='--', linewidth=linewidth, color=\"yellow\", alpha=0.5)\n",
    "plt.xlabel('Time [ms]', fontsize=fontsize)\n",
    "plt.ylabel('Force [N]', fontsize=fontsize, labelpad=10)\n",
    "ticks = [0, 400, 800, 1200, 1600]\n",
    "plt.xticks(ticks=ticks, fontsize=fontsize)\n",
    "plt.yticks(fontsize=fontsize)\n",
    "plt.legend(fontsize=fontsize)\n",
    "plt.show()"
   ],
   "id": "4feee660d65e610c",
   "outputs": [
    {
     "ename": "NameError",
     "evalue": "name 'true_forces' is not defined",
     "output_type": "error",
     "traceback": [
      "\u001B[0;31m---------------------------------------------------------------------------\u001B[0m",
      "\u001B[0;31mNameError\u001B[0m                                 Traceback (most recent call last)",
      "Cell \u001B[0;32mIn[11], line 4\u001B[0m\n\u001B[1;32m      2\u001B[0m linewidth \u001B[38;5;241m=\u001B[39m \u001B[38;5;241m7\u001B[39m\n\u001B[1;32m      3\u001B[0m plt\u001B[38;5;241m.\u001B[39mfigure(figsize\u001B[38;5;241m=\u001B[39m(\u001B[38;5;241m12\u001B[39m,\u001B[38;5;241m12\u001B[39m))\n\u001B[0;32m----> 4\u001B[0m plt\u001B[38;5;241m.\u001B[39mplot(\u001B[43mtrue_forces\u001B[49m, label\u001B[38;5;241m=\u001B[39m\u001B[38;5;124m'\u001B[39m\u001B[38;5;124mTrue Force\u001B[39m\u001B[38;5;124m'\u001B[39m, linewidth\u001B[38;5;241m=\u001B[39mlinewidth, color\u001B[38;5;241m=\u001B[39m\u001B[38;5;124m\"\u001B[39m\u001B[38;5;124mgreen\u001B[39m\u001B[38;5;124m\"\u001B[39m)\n\u001B[1;32m      5\u001B[0m plt\u001B[38;5;241m.\u001B[39mplot(forces_lstm, label\u001B[38;5;241m=\u001B[39m\u001B[38;5;124m'\u001B[39m\u001B[38;5;124mPredicted Force LSTM\u001B[39m\u001B[38;5;124m'\u001B[39m, linestyle\u001B[38;5;241m=\u001B[39m\u001B[38;5;124m'\u001B[39m\u001B[38;5;124mdotted\u001B[39m\u001B[38;5;124m'\u001B[39m, linewidth\u001B[38;5;241m=\u001B[39mlinewidth, color\u001B[38;5;241m=\u001B[39m\u001B[38;5;124m\"\u001B[39m\u001B[38;5;124mred\u001B[39m\u001B[38;5;124m\"\u001B[39m)\n\u001B[1;32m      6\u001B[0m plt\u001B[38;5;241m.\u001B[39mplot(forces_helper, label\u001B[38;5;241m=\u001B[39m\u001B[38;5;124m'\u001B[39m\u001B[38;5;124mHelper Force LSTM\u001B[39m\u001B[38;5;124m'\u001B[39m, linestyle\u001B[38;5;241m=\u001B[39m\u001B[38;5;124m'\u001B[39m\u001B[38;5;124m--\u001B[39m\u001B[38;5;124m'\u001B[39m, linewidth\u001B[38;5;241m=\u001B[39mlinewidth, color\u001B[38;5;241m=\u001B[39m\u001B[38;5;124m\"\u001B[39m\u001B[38;5;124myellow\u001B[39m\u001B[38;5;124m\"\u001B[39m, alpha\u001B[38;5;241m=\u001B[39m\u001B[38;5;241m0.5\u001B[39m)\n",
      "\u001B[0;31mNameError\u001B[0m: name 'true_forces' is not defined"
     ]
    },
    {
     "data": {
      "text/plain": [
       "<Figure size 1200x1200 with 0 Axes>"
      ]
     },
     "metadata": {},
     "output_type": "display_data"
    }
   ],
   "execution_count": 11
  }
 ],
 "metadata": {
  "kernelspec": {
   "display_name": "Python 3",
   "language": "python",
   "name": "python3"
  },
  "language_info": {
   "codemirror_mode": {
    "name": "ipython",
    "version": 2
   },
   "file_extension": ".py",
   "mimetype": "text/x-python",
   "name": "python",
   "nbconvert_exporter": "python",
   "pygments_lexer": "ipython2",
   "version": "2.7.6"
  }
 },
 "nbformat": 4,
 "nbformat_minor": 5
}
